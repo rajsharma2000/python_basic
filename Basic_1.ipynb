{
 "cells": [
  {
   "cell_type": "code",
   "execution_count": 1,
   "id": "75f86208",
   "metadata": {},
   "outputs": [
    {
     "ename": "SyntaxError",
     "evalue": "invalid syntax (<ipython-input-1-162de34ad8bd>, line 3)",
     "output_type": "error",
     "traceback": [
      "\u001b[1;36m  File \u001b[1;32m\"<ipython-input-1-162de34ad8bd>\"\u001b[1;36m, line \u001b[1;32m3\u001b[0m\n\u001b[1;33m    Hello world\u001b[0m\n\u001b[1;37m          ^\u001b[0m\n\u001b[1;31mSyntaxError\u001b[0m\u001b[1;31m:\u001b[0m invalid syntax\n"
     ]
    }
   ],
   "source": [
    "#Python Starting\n",
    "#first code in python....\n",
    "Hello world"
   ]
  },
  {
   "cell_type": "code",
   "execution_count": null,
   "id": "161392eb",
   "metadata": {},
   "outputs": [],
   "source": [
    "#Basic code..\n",
    "\"Hello world\""
   ]
  },
  {
   "cell_type": "code",
   "execution_count": 2,
   "id": "b8c67a05",
   "metadata": {},
   "outputs": [
    {
     "data": {
      "text/plain": [
       "'Hello world'"
      ]
     },
     "execution_count": 2,
     "metadata": {},
     "output_type": "execute_result"
    }
   ],
   "source": [
    "'Hello world'"
   ]
  },
  {
   "cell_type": "code",
   "execution_count": 3,
   "id": "83462b07",
   "metadata": {},
   "outputs": [
    {
     "data": {
      "text/plain": [
       "\"'Hello world'\""
      ]
     },
     "execution_count": 3,
     "metadata": {},
     "output_type": "execute_result"
    }
   ],
   "source": [
    "\"'Hello world'\""
   ]
  },
  {
   "cell_type": "code",
   "execution_count": 4,
   "id": "6f388601",
   "metadata": {},
   "outputs": [
    {
     "data": {
      "text/plain": [
       "10"
      ]
     },
     "execution_count": 4,
     "metadata": {},
     "output_type": "execute_result"
    }
   ],
   "source": [
    "#python mai hum \"\",'',\"''\",() ke ander kuchh bhi print kra sakte hai..\n",
    "(10)"
   ]
  },
  {
   "cell_type": "code",
   "execution_count": 5,
   "id": "c9240f86",
   "metadata": {},
   "outputs": [
    {
     "data": {
      "text/plain": [
       "'Raj'"
      ]
     },
     "execution_count": 5,
     "metadata": {},
     "output_type": "execute_result"
    }
   ],
   "source": [
    "\"Raj\""
   ]
  },
  {
   "cell_type": "code",
   "execution_count": 6,
   "id": "7d9d7271",
   "metadata": {},
   "outputs": [
    {
     "ename": "IndentationError",
     "evalue": "unexpected indent (<ipython-input-6-18bc7305b29b>, line 2)",
     "output_type": "error",
     "traceback": [
      "\u001b[1;36m  File \u001b[1;32m\"<ipython-input-6-18bc7305b29b>\"\u001b[1;36m, line \u001b[1;32m2\u001b[0m\n\u001b[1;33m    print()\u001b[0m\n\u001b[1;37m    ^\u001b[0m\n\u001b[1;31mIndentationError\u001b[0m\u001b[1;31m:\u001b[0m unexpected indent\n"
     ]
    }
   ],
   "source": [
    "#-print()_ka use hum result print karane ke liye karte hai...\n",
    "    print()\n",
    "# Python Print() bydefault leta h, hme Print() dene ki jaroorat mhi hai bus variable likh kr execute kra do.."
   ]
  },
  {
   "cell_type": "code",
   "execution_count": null,
   "id": "430437c1",
   "metadata": {},
   "outputs": [],
   "source": [
    "#variable Assign..\n",
    "a=\"Raj Sharma\"\n",
    "print(a)\n",
    "#where \"a\" is a variable, which assign \"Raj Sharma\""
   ]
  },
  {
   "cell_type": "code",
   "execution_count": null,
   "id": "3d3bd758",
   "metadata": {},
   "outputs": [],
   "source": [
    "a=(\"Raj Sharma\")\n",
    "print(a)"
   ]
  },
  {
   "cell_type": "code",
   "execution_count": null,
   "id": "51f3cafe",
   "metadata": {},
   "outputs": [],
   "source": [
    "a=(\"10\")\n",
    "print(a)"
   ]
  },
  {
   "cell_type": "code",
   "execution_count": null,
   "id": "eb017c7c",
   "metadata": {},
   "outputs": [],
   "source": [
    "a=(10)\n",
    "print(a)"
   ]
  },
  {
   "cell_type": "code",
   "execution_count": null,
   "id": "57faa1a1",
   "metadata": {},
   "outputs": [],
   "source": [
    "a=10\n",
    "print(a)"
   ]
  },
  {
   "cell_type": "code",
   "execution_count": null,
   "id": "c50d9bd1",
   "metadata": {},
   "outputs": [],
   "source": [
    "a=s\n",
    "print(a)"
   ]
  },
  {
   "cell_type": "code",
   "execution_count": null,
   "id": "156c4b01",
   "metadata": {},
   "outputs": [],
   "source": [
    "a=10s\n",
    "print(a)\n",
    "#ye code iss liye nhi chala kyoki isme (String),aur (Integer) 2 dat type h,aur string ko hamesha \"\" mai likhte hai..."
   ]
  },
  {
   "cell_type": "code",
   "execution_count": 21,
   "id": "b70604b2",
   "metadata": {},
   "outputs": [
    {
     "ename": "SyntaxError",
     "evalue": "invalid syntax (<ipython-input-21-eafe34ef987b>, line 1)",
     "output_type": "error",
     "traceback": [
      "\u001b[1;36m  File \u001b[1;32m\"<ipython-input-21-eafe34ef987b>\"\u001b[1;36m, line \u001b[1;32m1\u001b[0m\n\u001b[1;33m    a=(Raj Sharma)\u001b[0m\n\u001b[1;37m           ^\u001b[0m\n\u001b[1;31mSyntaxError\u001b[0m\u001b[1;31m:\u001b[0m invalid syntax\n"
     ]
    }
   ],
   "source": [
    "a=(Raj Sharma)\n",
    "print(a)\n",
    "#Ye code iss liye nhi chala kyoki isme (\"\") nhi lge,bina \"\",kyoki (Raj Sharma) ek String h is vjh se ye bina codes ke nhi chalegi.."
   ]
  },
  {
   "cell_type": "markdown",
   "id": "ed6a9cc9",
   "metadata": {},
   "source": [
    "# type()\n",
    "   \n",
    "   type() ka use hum, data ka type check karne ke liye karte hai...\n"
   ]
  },
  {
   "cell_type": "markdown",
   "id": "bc751bd3",
   "metadata": {},
   "source": [
    "# Data Type & Variable...\n",
    "\n"
   ]
  },
  {
   "cell_type": "code",
   "execution_count": null,
   "id": "e5cc1458",
   "metadata": {},
   "outputs": [],
   "source": []
  },
  {
   "cell_type": "code",
   "execution_count": 7,
   "id": "391ee3e0",
   "metadata": {},
   "outputs": [],
   "source": [
    "#Data Type in Python..\n",
    "#Integer\n",
    "#String\n",
    "#float\n",
    "#boolean\n"
   ]
  },
  {
   "cell_type": "code",
   "execution_count": 23,
   "id": "3692e66f",
   "metadata": {},
   "outputs": [
    {
     "name": "stdout",
     "output_type": "stream",
     "text": [
      "10\n"
     ]
    },
    {
     "data": {
      "text/plain": [
       "int"
      ]
     },
     "execution_count": 23,
     "metadata": {},
     "output_type": "execute_result"
    }
   ],
   "source": [
    "#INTEGERS...\n",
    "a=(10)\n",
    "print(a)\n",
    "type(a)"
   ]
  },
  {
   "cell_type": "code",
   "execution_count": 9,
   "id": "da0b570e",
   "metadata": {},
   "outputs": [
    {
     "name": "stdout",
     "output_type": "stream",
     "text": [
      "10\n"
     ]
    }
   ],
   "source": [
    "a=10\n",
    "print(a)"
   ]
  },
  {
   "cell_type": "code",
   "execution_count": 11,
   "id": "3da2ebe3",
   "metadata": {},
   "outputs": [
    {
     "name": "stdout",
     "output_type": "stream",
     "text": [
      "(10, 20)\n"
     ]
    }
   ],
   "source": [
    "a=10,20\n",
    "print(a)"
   ]
  },
  {
   "cell_type": "code",
   "execution_count": 12,
   "id": "196454ee",
   "metadata": {},
   "outputs": [],
   "source": [
    "#Integer ko hum bina () ke bhi execute kra sakte hai...\n"
   ]
  },
  {
   "cell_type": "code",
   "execution_count": 13,
   "id": "ed6e31eb",
   "metadata": {},
   "outputs": [
    {
     "ename": "SyntaxError",
     "evalue": "invalid syntax (<ipython-input-13-1a4c207fe90a>, line 2)",
     "output_type": "error",
     "traceback": [
      "\u001b[1;36m  File \u001b[1;32m\"<ipython-input-13-1a4c207fe90a>\"\u001b[1;36m, line \u001b[1;32m2\u001b[0m\n\u001b[1;33m    a=Raj Sharma\u001b[0m\n\u001b[1;37m          ^\u001b[0m\n\u001b[1;31mSyntaxError\u001b[0m\u001b[1;31m:\u001b[0m invalid syntax\n"
     ]
    }
   ],
   "source": [
    "#STRING...\n",
    "a=Raj Sharma\n",
    "print(a)"
   ]
  },
  {
   "cell_type": "code",
   "execution_count": 14,
   "id": "bc7870a8",
   "metadata": {},
   "outputs": [
    {
     "ename": "SyntaxError",
     "evalue": "invalid syntax (<ipython-input-14-ae79582d0268>, line 1)",
     "output_type": "error",
     "traceback": [
      "\u001b[1;36m  File \u001b[1;32m\"<ipython-input-14-ae79582d0268>\"\u001b[1;36m, line \u001b[1;32m1\u001b[0m\n\u001b[1;33m    a=(Raj Sharma)\u001b[0m\n\u001b[1;37m           ^\u001b[0m\n\u001b[1;31mSyntaxError\u001b[0m\u001b[1;31m:\u001b[0m invalid syntax\n"
     ]
    }
   ],
   "source": [
    "a=(Raj Sharma)\n",
    "print(a)"
   ]
  },
  {
   "cell_type": "code",
   "execution_count": 15,
   "id": "99a6fc36",
   "metadata": {},
   "outputs": [
    {
     "name": "stdout",
     "output_type": "stream",
     "text": [
      "Raj Sharma\n"
     ]
    }
   ],
   "source": [
    "a=\"Raj Sharma\"\n",
    "print(a)"
   ]
  },
  {
   "cell_type": "code",
   "execution_count": 16,
   "id": "4df87627",
   "metadata": {},
   "outputs": [
    {
     "name": "stdout",
     "output_type": "stream",
     "text": [
      "Raj Sharma\n"
     ]
    }
   ],
   "source": [
    "a=(\"Raj Sharma\")\n",
    "print(a)"
   ]
  },
  {
   "cell_type": "code",
   "execution_count": 17,
   "id": "a5bae90a",
   "metadata": {},
   "outputs": [
    {
     "name": "stdout",
     "output_type": "stream",
     "text": [
      "Raj Sharma\n"
     ]
    }
   ],
   "source": [
    "a='Raj Sharma'\n",
    "print(a)"
   ]
  },
  {
   "cell_type": "code",
   "execution_count": 18,
   "id": "70e986e5",
   "metadata": {},
   "outputs": [
    {
     "name": "stdout",
     "output_type": "stream",
     "text": [
      "'Raj Sharma'\n"
     ]
    }
   ],
   "source": [
    "a=\"'Raj Sharma'\"\n",
    "print(a)"
   ]
  },
  {
   "cell_type": "code",
   "execution_count": 19,
   "id": "4b85857d",
   "metadata": {},
   "outputs": [],
   "source": [
    "# \"\", '', \"''\", codes mai hum jo bhi likhte hai, python usee #String hi samjhta hai..."
   ]
  },
  {
   "cell_type": "code",
   "execution_count": 28,
   "id": "3083d71e",
   "metadata": {},
   "outputs": [
    {
     "name": "stdout",
     "output_type": "stream",
     "text": [
      "100\n"
     ]
    }
   ],
   "source": [
    "a=\"100\"\n",
    "print(a)"
   ]
  },
  {
   "cell_type": "code",
   "execution_count": 29,
   "id": "263aa30c",
   "metadata": {},
   "outputs": [
    {
     "data": {
      "text/plain": [
       "str"
      ]
     },
     "execution_count": 29,
     "metadata": {},
     "output_type": "execute_result"
    }
   ],
   "source": [
    "type(a)"
   ]
  },
  {
   "cell_type": "code",
   "execution_count": 31,
   "id": "b7e2be47",
   "metadata": {},
   "outputs": [
    {
     "name": "stdout",
     "output_type": "stream",
     "text": [
      "10@##$$%%^^&775Raj\n"
     ]
    }
   ],
   "source": [
    "a=('10@##$$%%^^&775Raj')\n",
    "print(a)"
   ]
  },
  {
   "cell_type": "code",
   "execution_count": 32,
   "id": "ec8ed7d6",
   "metadata": {},
   "outputs": [
    {
     "data": {
      "text/plain": [
       "str"
      ]
     },
     "execution_count": 32,
     "metadata": {},
     "output_type": "execute_result"
    }
   ],
   "source": [
    "type(a)"
   ]
  },
  {
   "cell_type": "code",
   "execution_count": 33,
   "id": "c2af2e2f",
   "metadata": {},
   "outputs": [
    {
     "name": "stdout",
     "output_type": "stream",
     "text": [
      "10.2\n"
     ]
    }
   ],
   "source": [
    "#FLOAT..\n",
    "a=10.2\n",
    "print(a)"
   ]
  },
  {
   "cell_type": "code",
   "execution_count": 34,
   "id": "cb8815bf",
   "metadata": {},
   "outputs": [
    {
     "data": {
      "text/plain": [
       "float"
      ]
     },
     "execution_count": 34,
     "metadata": {},
     "output_type": "execute_result"
    }
   ],
   "source": [
    "type(a)"
   ]
  },
  {
   "cell_type": "code",
   "execution_count": 36,
   "id": "14f73da7",
   "metadata": {},
   "outputs": [
    {
     "name": "stdout",
     "output_type": "stream",
     "text": [
      "10.2\n"
     ]
    }
   ],
   "source": [
    "a=10.2\n",
    "print(a)"
   ]
  },
  {
   "cell_type": "code",
   "execution_count": 37,
   "id": "a4aae467",
   "metadata": {},
   "outputs": [
    {
     "data": {
      "text/plain": [
       "float"
      ]
     },
     "execution_count": 37,
     "metadata": {},
     "output_type": "execute_result"
    }
   ],
   "source": [
    "type(a)"
   ]
  },
  {
   "cell_type": "code",
   "execution_count": null,
   "id": "80483cc7",
   "metadata": {},
   "outputs": [],
   "source": [
    "#use of \"\" in python\n",
    "(iska use String ke liye kiya jata hai..)\n",
    "#use of \"''\" in python\n",
    "\n",
    "\n"
   ]
  }
 ],
 "metadata": {
  "kernelspec": {
   "display_name": "Python 3",
   "language": "python",
   "name": "python3"
  },
  "language_info": {
   "codemirror_mode": {
    "name": "ipython",
    "version": 3
   },
   "file_extension": ".py",
   "mimetype": "text/x-python",
   "name": "python",
   "nbconvert_exporter": "python",
   "pygments_lexer": "ipython3",
   "version": "3.8.8"
  }
 },
 "nbformat": 4,
 "nbformat_minor": 5
}
