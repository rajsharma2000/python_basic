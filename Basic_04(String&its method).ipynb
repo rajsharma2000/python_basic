{
 "cells": [
  {
   "cell_type": "code",
   "execution_count": null,
   "id": "5918afd6",
   "metadata": {},
   "outputs": [],
   "source": [
    "#PRIME NUMBER\n",
    "a=int(input(\"Enter the number\"))\n",
    "for i in range(2,a):\n",
    "    if(a%i)==0:\n",
    "        print(\"Not Prime number\")\n",
    "        break\n",
    "    else:\n",
    "        print(\"Prime number\")\n",
    "        break"
   ]
  },
  {
   "cell_type": "markdown",
   "id": "d208b198",
   "metadata": {},
   "source": [
    "# String & its Methods\n"
   ]
  },
  {
   "cell_type": "code",
   "execution_count": null,
   "id": "4d4e9103",
   "metadata": {},
   "outputs": [],
   "source": [
    "#String\n",
    "#String Slicing\n",
    "##String Method\n",
    "#type\n",
    "#find\n",
    "#replace\n",
    "#capitalize\n",
    "#count\n",
    "#len\n",
    "\n",
    "\n"
   ]
  },
  {
   "cell_type": "code",
   "execution_count": null,
   "id": "1dfebcd2",
   "metadata": {},
   "outputs": [],
   "source": [
    "#String\n",
    "a=\"Raj\"\n",
    "print(a)"
   ]
  },
  {
   "cell_type": "code",
   "execution_count": null,
   "id": "9c979cd3",
   "metadata": {},
   "outputs": [],
   "source": [
    "#type\n",
    "type(a)"
   ]
  },
  {
   "cell_type": "code",
   "execution_count": null,
   "id": "baa32d27",
   "metadata": {},
   "outputs": [],
   "source": [
    "#String Slicing\n",
    "a=\"Sharma\"\n",
    "print(a)"
   ]
  },
  {
   "cell_type": "code",
   "execution_count": null,
   "id": "e907a46d",
   "metadata": {},
   "outputs": [],
   "source": [
    "type(a)"
   ]
  },
  {
   "cell_type": "code",
   "execution_count": null,
   "id": "f2df2d9f",
   "metadata": {},
   "outputs": [],
   "source": [
    "#slicing\n",
    "b=\"Sharma\"\n",
    "print(b)"
   ]
  },
  {
   "cell_type": "code",
   "execution_count": null,
   "id": "2d3f98a8",
   "metadata": {},
   "outputs": [],
   "source": [
    "b[0:3]"
   ]
  },
  {
   "cell_type": "code",
   "execution_count": null,
   "id": "aab7fb58",
   "metadata": {},
   "outputs": [],
   "source": [
    "b[0:6]\n",
    "#n-1 hota hai..(String ki indexing mai)"
   ]
  },
  {
   "cell_type": "code",
   "execution_count": null,
   "id": "9ae5f8ac",
   "metadata": {},
   "outputs": [],
   "source": [
    "b[0:7]"
   ]
  },
  {
   "cell_type": "code",
   "execution_count": null,
   "id": "fc1797db",
   "metadata": {},
   "outputs": [],
   "source": [
    "b[0:5]"
   ]
  },
  {
   "cell_type": "code",
   "execution_count": null,
   "id": "4cb58387",
   "metadata": {},
   "outputs": [],
   "source": [
    "b[2:4]"
   ]
  },
  {
   "cell_type": "code",
   "execution_count": null,
   "id": "cfe0bbd5",
   "metadata": {},
   "outputs": [],
   "source": [
    "b[4:5]"
   ]
  },
  {
   "cell_type": "code",
   "execution_count": null,
   "id": "2170bf97",
   "metadata": {},
   "outputs": [],
   "source": [
    "b[0]"
   ]
  },
  {
   "cell_type": "code",
   "execution_count": null,
   "id": "5469b0f0",
   "metadata": {},
   "outputs": [],
   "source": [
    "b[0:]"
   ]
  },
  {
   "cell_type": "code",
   "execution_count": null,
   "id": "ff7e394b",
   "metadata": {},
   "outputs": [],
   "source": [
    "b[0::]"
   ]
  },
  {
   "cell_type": "code",
   "execution_count": null,
   "id": "e4caa0e2",
   "metadata": {},
   "outputs": [],
   "source": [
    "b[0:::]"
   ]
  },
  {
   "cell_type": "code",
   "execution_count": null,
   "id": "abacd6d8",
   "metadata": {},
   "outputs": [],
   "source": [
    "b[:0]"
   ]
  },
  {
   "cell_type": "code",
   "execution_count": null,
   "id": "a0fe273f",
   "metadata": {},
   "outputs": [],
   "source": [
    "b[:]"
   ]
  },
  {
   "cell_type": "code",
   "execution_count": null,
   "id": "88e51863",
   "metadata": {},
   "outputs": [],
   "source": [
    "b[0:1]"
   ]
  },
  {
   "cell_type": "code",
   "execution_count": null,
   "id": "5c3b0b19",
   "metadata": {},
   "outputs": [],
   "source": [
    "a=\"Raj Sharma\"\n",
    "print(a)"
   ]
  },
  {
   "cell_type": "code",
   "execution_count": null,
   "id": "5c3b5db2",
   "metadata": {},
   "outputs": [],
   "source": [
    "a[0:6]"
   ]
  },
  {
   "cell_type": "code",
   "execution_count": null,
   "id": "b6231f72",
   "metadata": {},
   "outputs": [],
   "source": [
    "a[0:8]"
   ]
  },
  {
   "cell_type": "code",
   "execution_count": null,
   "id": "bf18623e",
   "metadata": {},
   "outputs": [],
   "source": [
    "r=(\"Jeet Sharma\")\n",
    "print(r)"
   ]
  },
  {
   "cell_type": "code",
   "execution_count": null,
   "id": "a792054b",
   "metadata": {},
   "outputs": [],
   "source": [
    "r[0:2]"
   ]
  },
  {
   "cell_type": "code",
   "execution_count": null,
   "id": "7f0d0f12",
   "metadata": {},
   "outputs": [],
   "source": [
    "r[0:2]"
   ]
  },
  {
   "cell_type": "code",
   "execution_count": null,
   "id": "cc1d9b5c",
   "metadata": {},
   "outputs": [],
   "source": [
    "r[0:8:2]"
   ]
  },
  {
   "cell_type": "code",
   "execution_count": null,
   "id": "6af3edee",
   "metadata": {},
   "outputs": [],
   "source": [
    "r[0:4:2]"
   ]
  },
  {
   "cell_type": "code",
   "execution_count": null,
   "id": "3ce4f9c7",
   "metadata": {},
   "outputs": [],
   "source": [
    "r[0:10:3]"
   ]
  },
  {
   "cell_type": "code",
   "execution_count": null,
   "id": "ea622460",
   "metadata": {},
   "outputs": [],
   "source": [
    "#Negative Index..\n",
    "y=\"YAsh SHARMA\"\n",
    "print(y)"
   ]
  },
  {
   "cell_type": "code",
   "execution_count": null,
   "id": "daf402cc",
   "metadata": {},
   "outputs": [],
   "source": [
    "y[0:]"
   ]
  },
  {
   "cell_type": "code",
   "execution_count": null,
   "id": "578137b6",
   "metadata": {},
   "outputs": [],
   "source": [
    "b=(\"10,20,ram,syam\")\n",
    "print(b)"
   ]
  },
  {
   "cell_type": "code",
   "execution_count": null,
   "id": "25ef108c",
   "metadata": {},
   "outputs": [],
   "source": [
    "b[-1]"
   ]
  },
  {
   "cell_type": "code",
   "execution_count": null,
   "id": "9b76aac2",
   "metadata": {},
   "outputs": [],
   "source": [
    "b[-3]"
   ]
  },
  {
   "cell_type": "code",
   "execution_count": null,
   "id": "3b992954",
   "metadata": {},
   "outputs": [],
   "source": [
    "b[-3:3:2]"
   ]
  },
  {
   "cell_type": "code",
   "execution_count": null,
   "id": "41502480",
   "metadata": {},
   "outputs": [],
   "source": [
    "b[-3:-2]"
   ]
  },
  {
   "cell_type": "code",
   "execution_count": null,
   "id": "5c197067",
   "metadata": {},
   "outputs": [],
   "source": [
    "b[-2:-1]"
   ]
  },
  {
   "cell_type": "code",
   "execution_count": null,
   "id": "a70d858f",
   "metadata": {},
   "outputs": [],
   "source": [
    "b[-6:-2]"
   ]
  },
  {
   "cell_type": "markdown",
   "id": "e96701ab",
   "metadata": {},
   "source": [
    "# String Method.."
   ]
  },
  {
   "cell_type": "code",
   "execution_count": null,
   "id": "7f0425ef",
   "metadata": {},
   "outputs": [],
   "source": [
    "#type..\n",
    "a=(\"Sharma ji\")\n",
    "print(a)"
   ]
  },
  {
   "cell_type": "code",
   "execution_count": null,
   "id": "5f5e7ec3",
   "metadata": {},
   "outputs": [],
   "source": [
    "#type()..\n",
    "type(a)"
   ]
  },
  {
   "cell_type": "code",
   "execution_count": null,
   "id": "5cca3865",
   "metadata": {},
   "outputs": [],
   "source": [
    "#len()\n",
    "b=\"Noida\"\n",
    "print(b)"
   ]
  },
  {
   "cell_type": "code",
   "execution_count": null,
   "id": "576fcb49",
   "metadata": {},
   "outputs": [],
   "source": [
    "len(b)"
   ]
  },
  {
   "cell_type": "code",
   "execution_count": null,
   "id": "302121e7",
   "metadata": {},
   "outputs": [],
   "source": [
    "#Find\n",
    "a=(\"10,20,Raj,true,20.5,true,\")\n",
    "print(a)"
   ]
  },
  {
   "cell_type": "code",
   "execution_count": null,
   "id": "ab3606c2",
   "metadata": {},
   "outputs": [],
   "source": [
    "b=(\"10,55,Raj Sharma\")\n",
    "print(b)"
   ]
  },
  {
   "cell_type": "code",
   "execution_count": null,
   "id": "c29d9cc2",
   "metadata": {},
   "outputs": [],
   "source": [
    "b.find(\"h\")"
   ]
  },
  {
   "cell_type": "code",
   "execution_count": null,
   "id": "abd42b23",
   "metadata": {},
   "outputs": [],
   "source": [
    "#capatilize\n",
    "a=\"Hello Bhai\"\n",
    "print(a)\n"
   ]
  },
  {
   "cell_type": "code",
   "execution_count": null,
   "id": "bb83392b",
   "metadata": {},
   "outputs": [],
   "source": [
    "a.capitalize()"
   ]
  },
  {
   "cell_type": "code",
   "execution_count": null,
   "id": "06459884",
   "metadata": {},
   "outputs": [],
   "source": [
    "a=\"HELLO BHAI\"\n",
    "print(a)"
   ]
  },
  {
   "cell_type": "code",
   "execution_count": null,
   "id": "d49ec0a5",
   "metadata": {},
   "outputs": [],
   "source": [
    "a.capitalize()"
   ]
  },
  {
   "cell_type": "code",
   "execution_count": null,
   "id": "0fb66951",
   "metadata": {},
   "outputs": [],
   "source": [
    "b=\"HelLo bHaI\"\n",
    "print(b)"
   ]
  },
  {
   "cell_type": "code",
   "execution_count": null,
   "id": "acc5d42e",
   "metadata": {},
   "outputs": [],
   "source": [
    "b.capitalize()"
   ]
  },
  {
   "cell_type": "code",
   "execution_count": null,
   "id": "ac88386d",
   "metadata": {},
   "outputs": [],
   "source": [
    "a=(\"i am a programmer coading karta hu mai programmer hu\")\n",
    "print(a)"
   ]
  },
  {
   "cell_type": "code",
   "execution_count": null,
   "id": "e29459a8",
   "metadata": {},
   "outputs": [],
   "source": [
    "type(a)"
   ]
  },
  {
   "cell_type": "code",
   "execution_count": null,
   "id": "fba775b5",
   "metadata": {},
   "outputs": [],
   "source": [
    "len(a)"
   ]
  },
  {
   "cell_type": "code",
   "execution_count": null,
   "id": "e1c25fb4",
   "metadata": {},
   "outputs": [],
   "source": [
    "a.find(\"mai\")"
   ]
  },
  {
   "cell_type": "code",
   "execution_count": null,
   "id": "3f3b1670",
   "metadata": {},
   "outputs": [],
   "source": [
    "a.find(\"programmer\")"
   ]
  },
  {
   "cell_type": "code",
   "execution_count": null,
   "id": "76e2baeb",
   "metadata": {},
   "outputs": [],
   "source": [
    "a.capitalize()"
   ]
  },
  {
   "cell_type": "code",
   "execution_count": null,
   "id": "da7e4bc9",
   "metadata": {},
   "outputs": [],
   "source": [
    "#replace\n",
    "a.replace(\"coading\",\"code\")"
   ]
  },
  {
   "cell_type": "code",
   "execution_count": null,
   "id": "b2518c58",
   "metadata": {},
   "outputs": [],
   "source": [
    "a.replace(\"code\",\"coading\")"
   ]
  },
  {
   "cell_type": "code",
   "execution_count": null,
   "id": "56ac95d1",
   "metadata": {},
   "outputs": [],
   "source": [
    "#count..\n",
    "a.count(\"programmer\")"
   ]
  },
  {
   "cell_type": "code",
   "execution_count": null,
   "id": "678ea960",
   "metadata": {},
   "outputs": [],
   "source": [
    "a.count(\"hu\")"
   ]
  },
  {
   "cell_type": "code",
   "execution_count": null,
   "id": "83a5f392",
   "metadata": {},
   "outputs": [],
   "source": [
    "a.count(\"p\")"
   ]
  },
  {
   "cell_type": "code",
   "execution_count": null,
   "id": "c77e3508",
   "metadata": {},
   "outputs": [],
   "source": [
    "#Concatination..\n",
    "a=30\n",
    "b=\"20\"\n",
    "print(a+b)"
   ]
  },
  {
   "cell_type": "code",
   "execution_count": null,
   "id": "80b3704c",
   "metadata": {},
   "outputs": [],
   "source": [
    "mystr1=30\n",
    "mystr2=\"20\"\n",
    "print(mystr1 + mystr2)"
   ]
  },
  {
   "cell_type": "code",
   "execution_count": null,
   "id": "14acf785",
   "metadata": {},
   "outputs": [],
   "source": []
  }
 ],
 "metadata": {
  "kernelspec": {
   "display_name": "Python 3",
   "language": "python",
   "name": "python3"
  },
  "language_info": {
   "codemirror_mode": {
    "name": "ipython",
    "version": 3
   },
   "file_extension": ".py",
   "mimetype": "text/x-python",
   "name": "python",
   "nbconvert_exporter": "python",
   "pygments_lexer": "ipython3",
   "version": "3.8.8"
  }
 },
 "nbformat": 4,
 "nbformat_minor": 5
}
