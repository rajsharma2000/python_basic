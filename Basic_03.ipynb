{
 "cells": [
  {
   "cell_type": "markdown",
   "id": "37a78092",
   "metadata": {},
   "source": [
    "# Condition\n",
    "\n",
    "#if(Condition)\n",
    "#msg\n",
    "#print()\n"
   ]
  },
  {
   "cell_type": "code",
   "execution_count": 1,
   "id": "66d932ae",
   "metadata": {},
   "outputs": [
    {
     "name": "stdout",
     "output_type": "stream",
     "text": [
      "Raj\n"
     ]
    }
   ],
   "source": [
    "# If\n",
    "a=10\n",
    "b=20\n",
    "if(a<b):\n",
    "    print(\"Raj\")"
   ]
  },
  {
   "cell_type": "code",
   "execution_count": 2,
   "id": "778f069e",
   "metadata": {},
   "outputs": [],
   "source": [
    "a=30\n",
    "b=20\n",
    "if(a<b):\n",
    "    print('Raj Sharma')"
   ]
  },
  {
   "cell_type": "code",
   "execution_count": 3,
   "id": "b81e7ef1",
   "metadata": {},
   "outputs": [],
   "source": [
    "a=5\n",
    "b=20\n",
    "if(a>b):\n",
    "    print(\"Hello world\")"
   ]
  },
  {
   "cell_type": "code",
   "execution_count": 4,
   "id": "5874af38",
   "metadata": {},
   "outputs": [
    {
     "name": "stdout",
     "output_type": "stream",
     "text": [
      "Not okk\n"
     ]
    }
   ],
   "source": [
    "# If/else\n",
    "a=10\n",
    "b=20\n",
    "if(a>b):\n",
    "    print(\"Okk\")\n",
    "else:\n",
    "    print(\"Not okk\")"
   ]
  },
  {
   "cell_type": "code",
   "execution_count": 5,
   "id": "2b565f74",
   "metadata": {},
   "outputs": [
    {
     "name": "stdout",
     "output_type": "stream",
     "text": [
      "Not vote\n"
     ]
    }
   ],
   "source": [
    "age=18\n",
    "if(age>18):\n",
    "    print(\"Vote\")\n",
    "else:\n",
    "    print(\"Not vote\")"
   ]
  },
  {
   "cell_type": "code",
   "execution_count": 6,
   "id": "dd04f7b6",
   "metadata": {},
   "outputs": [
    {
     "name": "stdout",
     "output_type": "stream",
     "text": [
      "Vote\n"
     ]
    }
   ],
   "source": [
    "age=18\n",
    "if(age>=18):\n",
    "    print(\"Vote\")\n",
    "else:\n",
    "    print(\"Note Vote\")"
   ]
  },
  {
   "cell_type": "code",
   "execution_count": 7,
   "id": "9d6dc179",
   "metadata": {},
   "outputs": [
    {
     "name": "stdout",
     "output_type": "stream",
     "text": [
      "Vote\n"
     ]
    }
   ],
   "source": [
    "#If-elif/else.....\n",
    "age=18\n",
    "if(age>=18):\n",
    "    print(\"Vote\")\n",
    "elif(age<18):\n",
    "    print(\"Not vote\")\n",
    "else:\n",
    "    print(\"Chhota Bachha\")"
   ]
  },
  {
   "cell_type": "markdown",
   "id": "1d280d99",
   "metadata": {},
   "source": [
    "# User input..."
   ]
  },
  {
   "cell_type": "code",
   "execution_count": null,
   "id": "ae72b2e6",
   "metadata": {},
   "outputs": [],
   "source": [
    "# a=input(\"Enter the number\")\n",
    "\n",
    "#int ke liye..\n",
    "\n",
    "#a=int(input(\"Enter the number\"))\n",
    "a=int(input(\"Enter the number\"))"
   ]
  },
  {
   "cell_type": "code",
   "execution_count": 7,
   "id": "64432acc",
   "metadata": {},
   "outputs": [
    {
     "name": "stdout",
     "output_type": "stream",
     "text": [
      "Bachhe\n"
     ]
    }
   ],
   "source": [
    "age=13\n",
    "if(age>=18):\n",
    "    print(\"Vote\")\n",
    "elif(age<18):\n",
    "    print(\"Bachhe\")\n",
    "else:\n",
    "    print(\"Not Vote\")"
   ]
  },
  {
   "cell_type": "code",
   "execution_count": 3,
   "id": "aa294f6f",
   "metadata": {},
   "outputs": [
    {
     "name": "stdout",
     "output_type": "stream",
     "text": [
      "Enter the number3\n",
      "Enter the number2\n",
      "Enter the number1\n",
      "a\n"
     ]
    }
   ],
   "source": [
    "#WAP to take input from user and find max.of 3 numbers..\n",
    "a=int(input(\"Enter the number\"))\n",
    "b=int(input(\"Enter the number\"))\n",
    "c=int(input(\"Enter the number\"))\n",
    "if(a>b and a>c):\n",
    "    print(\"a\")\n",
    "elif(b>a and b>c):\n",
    "    print(\"b\")\n",
    "else:\n",
    "    print(\"c\")"
   ]
  },
  {
   "cell_type": "code",
   "execution_count": 7,
   "id": "3bc245c2",
   "metadata": {},
   "outputs": [
    {
     "name": "stdout",
     "output_type": "stream",
     "text": [
      "Enter the number2\n",
      "Enter the number5\n",
      "Enter the number3\n",
      "2\n"
     ]
    }
   ],
   "source": [
    "#WAP to take input from user and find min. of 3 numbers..\n",
    "a=int(input(\"Enter the number\"))\n",
    "b=int(input(\"Enter the number\"))\n",
    "c=int(input(\"Enter the number\"))\n",
    "if(a<b and a<c):\n",
    "    print(a)\n",
    "elif(b<a and b<c):\n",
    "    print(b)\n",
    "else:\n",
    "    print(c)"
   ]
  },
  {
   "cell_type": "code",
   "execution_count": 1,
   "id": "25d2a1a3",
   "metadata": {},
   "outputs": [
    {
     "name": "stdout",
     "output_type": "stream",
     "text": [
      "Enter the number2\n",
      "Enter the number3\n",
      "3 2\n"
     ]
    }
   ],
   "source": [
    "#WAP to swap 2 numbers without using Third variable(value)..\n",
    "a=int(input(\"Enter the number\"))\n",
    "b=int(input(\"Enter the number\"))\n",
    "a,b=b,a\n",
    "print(a,b)"
   ]
  },
  {
   "cell_type": "code",
   "execution_count": 2,
   "id": "b1e2c2b4",
   "metadata": {},
   "outputs": [
    {
     "name": "stdout",
     "output_type": "stream",
     "text": [
      "5 2\n"
     ]
    }
   ],
   "source": [
    "a=2\n",
    "b=5\n",
    "a,b=b,a\n",
    "print(a,b)"
   ]
  },
  {
   "cell_type": "code",
   "execution_count": 5,
   "id": "97abdf74",
   "metadata": {},
   "outputs": [
    {
     "name": "stdout",
     "output_type": "stream",
     "text": [
      "Enter the number4\n",
      "Enter the number5\n",
      "9 4\n"
     ]
    }
   ],
   "source": [
    "a=int(input(\"Enter the number\"))\n",
    "b=int(input(\"Enter the number\"))\n",
    "a=a+b\n",
    "b=a-b\n",
    "print(a,b)"
   ]
  },
  {
   "cell_type": "markdown",
   "id": "7ab69a62",
   "metadata": {},
   "source": [
    "# length function\n",
    "# len()\n"
   ]
  },
  {
   "cell_type": "code",
   "execution_count": 6,
   "id": "f92da7fc",
   "metadata": {},
   "outputs": [
    {
     "name": "stdout",
     "output_type": "stream",
     "text": [
      "Raj\n"
     ]
    }
   ],
   "source": [
    "#String\n",
    "a=\"Raj\"\n",
    "print(a)"
   ]
  },
  {
   "cell_type": "code",
   "execution_count": 7,
   "id": "1e146edc",
   "metadata": {},
   "outputs": [
    {
     "data": {
      "text/plain": [
       "str"
      ]
     },
     "execution_count": 7,
     "metadata": {},
     "output_type": "execute_result"
    }
   ],
   "source": [
    "type(a)"
   ]
  },
  {
   "cell_type": "code",
   "execution_count": 8,
   "id": "b3584dce",
   "metadata": {},
   "outputs": [
    {
     "data": {
      "text/plain": [
       "3"
      ]
     },
     "execution_count": 8,
     "metadata": {},
     "output_type": "execute_result"
    }
   ],
   "source": [
    "#len()\n",
    "len(a)"
   ]
  },
  {
   "cell_type": "code",
   "execution_count": 9,
   "id": "88cd3a10",
   "metadata": {},
   "outputs": [
    {
     "name": "stdout",
     "output_type": "stream",
     "text": [
      "Raj Sharma\n"
     ]
    }
   ],
   "source": [
    "b=\"Raj Sharma\"\n",
    "print(b)"
   ]
  },
  {
   "cell_type": "code",
   "execution_count": 10,
   "id": "53a9a0f0",
   "metadata": {},
   "outputs": [
    {
     "data": {
      "text/plain": [
       "str"
      ]
     },
     "execution_count": 10,
     "metadata": {},
     "output_type": "execute_result"
    }
   ],
   "source": [
    "type(b)"
   ]
  },
  {
   "cell_type": "code",
   "execution_count": 11,
   "id": "eb5e5661",
   "metadata": {},
   "outputs": [
    {
     "data": {
      "text/plain": [
       "10"
      ]
     },
     "execution_count": 11,
     "metadata": {},
     "output_type": "execute_result"
    }
   ],
   "source": [
    "len(b)\n",
    "#String ke ander space lo bhi leta hai.."
   ]
  },
  {
   "cell_type": "code",
   "execution_count": 12,
   "id": "b2da3dc8",
   "metadata": {},
   "outputs": [
    {
     "name": "stdout",
     "output_type": "stream",
     "text": [
      "Sharma\n"
     ]
    }
   ],
   "source": [
    "c=\"Sharma\"\n",
    "print(c)"
   ]
  },
  {
   "cell_type": "code",
   "execution_count": 13,
   "id": "d7089b6e",
   "metadata": {},
   "outputs": [
    {
     "data": {
      "text/plain": [
       "str"
      ]
     },
     "execution_count": 13,
     "metadata": {},
     "output_type": "execute_result"
    }
   ],
   "source": [
    "type(c)"
   ]
  },
  {
   "cell_type": "code",
   "execution_count": 14,
   "id": "b8ab2f61",
   "metadata": {},
   "outputs": [
    {
     "data": {
      "text/plain": [
       "6"
      ]
     },
     "execution_count": 14,
     "metadata": {},
     "output_type": "execute_result"
    }
   ],
   "source": [
    "len(c)"
   ]
  },
  {
   "cell_type": "code",
   "execution_count": 17,
   "id": "cbc017d5",
   "metadata": {},
   "outputs": [
    {
     "name": "stdout",
     "output_type": "stream",
     "text": [
      "(1, 2, 3, 4)\n"
     ]
    }
   ],
   "source": [
    "a=(1,2,3,4)\n",
    "print(a)\n"
   ]
  },
  {
   "cell_type": "code",
   "execution_count": null,
   "id": "6a156aff",
   "metadata": {},
   "outputs": [],
   "source": []
  },
  {
   "cell_type": "code",
   "execution_count": 18,
   "id": "38197815",
   "metadata": {},
   "outputs": [
    {
     "data": {
      "text/plain": [
       "4"
      ]
     },
     "execution_count": 18,
     "metadata": {},
     "output_type": "execute_result"
    }
   ],
   "source": [
    "len(a)"
   ]
  },
  {
   "cell_type": "code",
   "execution_count": null,
   "id": "d6d3ad8d",
   "metadata": {},
   "outputs": [],
   "source": []
  }
 ],
 "metadata": {
  "kernelspec": {
   "display_name": "Python 3",
   "language": "python",
   "name": "python3"
  },
  "language_info": {
   "codemirror_mode": {
    "name": "ipython",
    "version": 3
   },
   "file_extension": ".py",
   "mimetype": "text/x-python",
   "name": "python",
   "nbconvert_exporter": "python",
   "pygments_lexer": "ipython3",
   "version": "3.8.8"
  }
 },
 "nbformat": 4,
 "nbformat_minor": 5
}
