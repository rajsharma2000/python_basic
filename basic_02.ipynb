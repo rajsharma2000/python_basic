{
 "cells": [
  {
   "cell_type": "markdown",
   "id": "3b9367bf",
   "metadata": {},
   "source": [
    "# Data Type\n",
    "complex..\n",
    "a=x+2j"
   ]
  },
  {
   "cell_type": "markdown",
   "id": "eee72d8a",
   "metadata": {},
   "source": [
    "# Operator..\n"
   ]
  },
  {
   "cell_type": "code",
   "execution_count": 2,
   "id": "07cf8c24",
   "metadata": {},
   "outputs": [],
   "source": [
    "#Assign operator\n",
    "(=,==)\n",
    "#comaprision..\n",
    "#Airthmatic..\n",
    "#Logical..\n",
    "#condition."
   ]
  },
  {
   "cell_type": "code",
   "execution_count": 3,
   "id": "a329bc00",
   "metadata": {},
   "outputs": [
    {
     "name": "stdout",
     "output_type": "stream",
     "text": [
      "10\n"
     ]
    }
   ],
   "source": [
    "#Assign (=,==,===)\n",
    "#1-(=)\n",
    "a=10\n",
    "print(a)\n",
    "#iska use hum simply value assign karane ke liye karate hai.."
   ]
  },
  {
   "cell_type": "code",
   "execution_count": 4,
   "id": "f0f79a1f",
   "metadata": {},
   "outputs": [
    {
     "name": "stdout",
     "output_type": "stream",
     "text": [
      "10\n"
     ]
    }
   ],
   "source": [
    "#2- (==)\n",
    "a==20\n",
    "print(a)\n",
    "#iska use hum 2 values ko compair karane ke liye karte hai.."
   ]
  },
  {
   "cell_type": "code",
   "execution_count": 6,
   "id": "baf96853",
   "metadata": {},
   "outputs": [
    {
     "name": "stdout",
     "output_type": "stream",
     "text": [
      "5\n"
     ]
    }
   ],
   "source": [
    "a=5\n",
    "a==20\n",
    "print(a)"
   ]
  },
  {
   "cell_type": "code",
   "execution_count": 7,
   "id": "7155feae",
   "metadata": {},
   "outputs": [
    {
     "ename": "SyntaxError",
     "evalue": "invalid syntax (<ipython-input-7-bfd6927c5c30>, line 1)",
     "output_type": "error",
     "traceback": [
      "\u001b[1;36m  File \u001b[1;32m\"<ipython-input-7-bfd6927c5c30>\"\u001b[1;36m, line \u001b[1;32m1\u001b[0m\n\u001b[1;33m    a===10\u001b[0m\n\u001b[1;37m       ^\u001b[0m\n\u001b[1;31mSyntaxError\u001b[0m\u001b[1;31m:\u001b[0m invalid syntax\n"
     ]
    }
   ],
   "source": [
    "a===10\n",
    "print(a)"
   ]
  },
  {
   "cell_type": "code",
   "execution_count": 8,
   "id": "5fccccc3",
   "metadata": {},
   "outputs": [
    {
     "name": "stdout",
     "output_type": "stream",
     "text": [
      "5\n"
     ]
    }
   ],
   "source": [
    "#Airthmatic Operator..+,-,*,/,\n",
    "#(+)\n",
    "a=2\n",
    "b=3\n",
    "print(a+b)\n"
   ]
  },
  {
   "cell_type": "code",
   "execution_count": 9,
   "id": "ff51c1ae",
   "metadata": {},
   "outputs": [
    {
     "name": "stdout",
     "output_type": "stream",
     "text": [
      "3\n"
     ]
    }
   ],
   "source": [
    "#(-)\n",
    "a=5\n",
    "b=2\n",
    "print(a-b)"
   ]
  },
  {
   "cell_type": "code",
   "execution_count": 10,
   "id": "800de23d",
   "metadata": {},
   "outputs": [
    {
     "name": "stdout",
     "output_type": "stream",
     "text": [
      "6\n"
     ]
    }
   ],
   "source": [
    "#(*)\n",
    "a=2\n",
    "b=3\n",
    "print(a*b)"
   ]
  },
  {
   "cell_type": "code",
   "execution_count": 11,
   "id": "315a4302",
   "metadata": {},
   "outputs": [
    {
     "name": "stdout",
     "output_type": "stream",
     "text": [
      "3.0\n"
     ]
    }
   ],
   "source": [
    "#(/)\n",
    "a=6\n",
    "b=2\n",
    "print(a/b)"
   ]
  },
  {
   "cell_type": "code",
   "execution_count": 12,
   "id": "c0f42f4f",
   "metadata": {},
   "outputs": [
    {
     "name": "stdout",
     "output_type": "stream",
     "text": [
      "True\n"
     ]
    }
   ],
   "source": [
    "#Camparision Operator..<,>,<=,>=,!=,==\n",
    "# (<)\n",
    "a=2\n",
    "b=6\n",
    "print(a<b)"
   ]
  },
  {
   "cell_type": "code",
   "execution_count": 13,
   "id": "ff16acdb",
   "metadata": {},
   "outputs": [
    {
     "name": "stdout",
     "output_type": "stream",
     "text": [
      "False\n"
     ]
    }
   ],
   "source": [
    "# (>)\n",
    "a=2\n",
    "b=5\n",
    "print(a>b)"
   ]
  },
  {
   "cell_type": "code",
   "execution_count": 17,
   "id": "67136125",
   "metadata": {},
   "outputs": [
    {
     "name": "stdout",
     "output_type": "stream",
     "text": [
      "True\n"
     ]
    }
   ],
   "source": [
    "# (<=)\n",
    "a=1\n",
    "b=2\n",
    "print(a<=b)"
   ]
  },
  {
   "cell_type": "code",
   "execution_count": 18,
   "id": "d698ed2f",
   "metadata": {},
   "outputs": [
    {
     "name": "stdout",
     "output_type": "stream",
     "text": [
      "True\n"
     ]
    }
   ],
   "source": [
    "#(>=)\n",
    "a=5\n",
    "b=3\n",
    "print(a>=b)"
   ]
  },
  {
   "cell_type": "code",
   "execution_count": 19,
   "id": "00f67ec2",
   "metadata": {},
   "outputs": [
    {
     "name": "stdout",
     "output_type": "stream",
     "text": [
      "True\n"
     ]
    }
   ],
   "source": [
    "# (!=)\n",
    "a=5\n",
    "b=3\n",
    "print(a!=b)"
   ]
  },
  {
   "cell_type": "code",
   "execution_count": 20,
   "id": "83ae741a",
   "metadata": {},
   "outputs": [
    {
     "name": "stdout",
     "output_type": "stream",
     "text": [
      "False\n"
     ]
    }
   ],
   "source": [
    "a=3\n",
    "b=3\n",
    "print(a!=b)"
   ]
  },
  {
   "cell_type": "code",
   "execution_count": 21,
   "id": "817444f1",
   "metadata": {},
   "outputs": [
    {
     "name": "stdout",
     "output_type": "stream",
     "text": [
      "False\n"
     ]
    }
   ],
   "source": [
    "# (==)\n",
    "a=10\n",
    "b=120\n",
    "print(a==b)"
   ]
  },
  {
   "cell_type": "code",
   "execution_count": 22,
   "id": "2b57d021",
   "metadata": {},
   "outputs": [
    {
     "name": "stdout",
     "output_type": "stream",
     "text": [
      "True\n"
     ]
    }
   ],
   "source": [
    "a=10\n",
    "b=10\n",
    "print(a==b)"
   ]
  },
  {
   "cell_type": "code",
   "execution_count": null,
   "id": "6d8d4af4",
   "metadata": {},
   "outputs": [],
   "source": [
    "#Condition..\n",
    "a=10\n",
    "b=20\n",
    "if(a<b)\n",
    "    print(\"True\")\n",
    "else:\n",
    "    pr"
   ]
  }
 ],
 "metadata": {
  "kernelspec": {
   "display_name": "Python 3",
   "language": "python",
   "name": "python3"
  },
  "language_info": {
   "codemirror_mode": {
    "name": "ipython",
    "version": 3
   },
   "file_extension": ".py",
   "mimetype": "text/x-python",
   "name": "python",
   "nbconvert_exporter": "python",
   "pygments_lexer": "ipython3",
   "version": "3.8.8"
  }
 },
 "nbformat": 4,
 "nbformat_minor": 5
}
